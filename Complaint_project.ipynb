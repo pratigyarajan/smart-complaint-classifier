{
 "cells": [
  {
   "cell_type": "code",
   "execution_count": 77,
   "id": "b12aa9c8-f453-43bc-a3e6-80ecbb0541b1",
   "metadata": {},
   "outputs": [],
   "source": [
    "import pandas as pd\n",
    "from sentence_transformers import SentenceTransformer\n",
    "from sklearn.linear_model import LogisticRegression\n",
    "from sklearn.model_selection import train_test_split\n",
    "from sklearn.metrics import classification_report, accuracy_score\n",
    "import joblib\n"
   ]
  },
  {
   "cell_type": "code",
   "execution_count": 78,
   "id": "b29623ed-ca91-420f-8303-7a65b7d70526",
   "metadata": {},
   "outputs": [
    {
     "data": {
      "text/html": [
       "<div>\n",
       "<style scoped>\n",
       "    .dataframe tbody tr th:only-of-type {\n",
       "        vertical-align: middle;\n",
       "    }\n",
       "\n",
       "    .dataframe tbody tr th {\n",
       "        vertical-align: top;\n",
       "    }\n",
       "\n",
       "    .dataframe thead th {\n",
       "        text-align: right;\n",
       "    }\n",
       "</style>\n",
       "<table border=\"1\" class=\"dataframe\">\n",
       "  <thead>\n",
       "    <tr style=\"text-align: right;\">\n",
       "      <th></th>\n",
       "      <th>ID</th>\n",
       "      <th>complaint_text</th>\n",
       "      <th>category</th>\n",
       "      <th>priority</th>\n",
       "    </tr>\n",
       "  </thead>\n",
       "  <tbody>\n",
       "    <tr>\n",
       "      <th>0</th>\n",
       "      <td>1</td>\n",
       "      <td>There's been no water supply in our colony sin...</td>\n",
       "      <td>Water</td>\n",
       "      <td>High</td>\n",
       "    </tr>\n",
       "    <tr>\n",
       "      <th>1</th>\n",
       "      <td>2</td>\n",
       "      <td>Street lights on MG Road are not working for 3...</td>\n",
       "      <td>Electricity</td>\n",
       "      <td>Medium</td>\n",
       "    </tr>\n",
       "    <tr>\n",
       "      <th>2</th>\n",
       "      <td>3</td>\n",
       "      <td>Garbage has not been collected from Sector 7 f...</td>\n",
       "      <td>Sanitation</td>\n",
       "      <td>High</td>\n",
       "    </tr>\n",
       "    <tr>\n",
       "      <th>3</th>\n",
       "      <td>4</td>\n",
       "      <td>Water pressure is too low during mornings in G...</td>\n",
       "      <td>Water</td>\n",
       "      <td>Medium</td>\n",
       "    </tr>\n",
       "    <tr>\n",
       "      <th>4</th>\n",
       "      <td>5</td>\n",
       "      <td>Broken electric pole leaning dangerously near ...</td>\n",
       "      <td>Electricity</td>\n",
       "      <td>High</td>\n",
       "    </tr>\n",
       "    <tr>\n",
       "      <th>...</th>\n",
       "      <td>...</td>\n",
       "      <td>...</td>\n",
       "      <td>...</td>\n",
       "      <td>...</td>\n",
       "    </tr>\n",
       "    <tr>\n",
       "      <th>100</th>\n",
       "      <td>101</td>\n",
       "      <td>Traffic signals not working at major intersect...</td>\n",
       "      <td>Road Safety</td>\n",
       "      <td>High</td>\n",
       "    </tr>\n",
       "    <tr>\n",
       "      <th>101</th>\n",
       "      <td>102</td>\n",
       "      <td>Traffic signals not working at major intersect...</td>\n",
       "      <td>Road Safety</td>\n",
       "      <td>Medium</td>\n",
       "    </tr>\n",
       "    <tr>\n",
       "      <th>102</th>\n",
       "      <td>103</td>\n",
       "      <td>Traffic signals not working at major intersect...</td>\n",
       "      <td>Road Safety</td>\n",
       "      <td>Medium</td>\n",
       "    </tr>\n",
       "    <tr>\n",
       "      <th>103</th>\n",
       "      <td>104</td>\n",
       "      <td>Potholes on main highway causing accidents.</td>\n",
       "      <td>Road Safety</td>\n",
       "      <td>Medium</td>\n",
       "    </tr>\n",
       "    <tr>\n",
       "      <th>104</th>\n",
       "      <td>105</td>\n",
       "      <td>Footpath encroached, pedestrians walking on road.</td>\n",
       "      <td>Road Safety</td>\n",
       "      <td>Medium</td>\n",
       "    </tr>\n",
       "  </tbody>\n",
       "</table>\n",
       "<p>105 rows × 4 columns</p>\n",
       "</div>"
      ],
      "text/plain": [
       "      ID                                     complaint_text     category  \\\n",
       "0      1  There's been no water supply in our colony sin...        Water   \n",
       "1      2  Street lights on MG Road are not working for 3...  Electricity   \n",
       "2      3  Garbage has not been collected from Sector 7 f...   Sanitation   \n",
       "3      4  Water pressure is too low during mornings in G...        Water   \n",
       "4      5  Broken electric pole leaning dangerously near ...  Electricity   \n",
       "..   ...                                                ...          ...   \n",
       "100  101  Traffic signals not working at major intersect...  Road Safety   \n",
       "101  102  Traffic signals not working at major intersect...  Road Safety   \n",
       "102  103  Traffic signals not working at major intersect...  Road Safety   \n",
       "103  104        Potholes on main highway causing accidents.  Road Safety   \n",
       "104  105  Footpath encroached, pedestrians walking on road.  Road Safety   \n",
       "\n",
       "    priority  \n",
       "0       High  \n",
       "1     Medium  \n",
       "2       High  \n",
       "3     Medium  \n",
       "4       High  \n",
       "..       ...  \n",
       "100     High  \n",
       "101   Medium  \n",
       "102   Medium  \n",
       "103   Medium  \n",
       "104   Medium  \n",
       "\n",
       "[105 rows x 4 columns]"
      ]
     },
     "execution_count": 78,
     "metadata": {},
     "output_type": "execute_result"
    }
   ],
   "source": [
    "df=pd.read_csv('citizen_complaints.csv')\n",
    "df"
   ]
  },
  {
   "cell_type": "code",
   "execution_count": 79,
   "id": "2cba0571-c3d7-420a-837a-1795c4cf56f8",
   "metadata": {},
   "outputs": [
    {
     "data": {
      "text/plain": [
       "ID                0\n",
       "complaint_text    0\n",
       "category          0\n",
       "priority          0\n",
       "dtype: int64"
      ]
     },
     "execution_count": 79,
     "metadata": {},
     "output_type": "execute_result"
    }
   ],
   "source": [
    "df.isna().sum()"
   ]
  },
  {
   "cell_type": "code",
   "execution_count": 80,
   "id": "b20a705c-1054-461b-8443-45e8e8dd0bce",
   "metadata": {},
   "outputs": [
    {
     "data": {
      "text/html": [
       "<div>\n",
       "<style scoped>\n",
       "    .dataframe tbody tr th:only-of-type {\n",
       "        vertical-align: middle;\n",
       "    }\n",
       "\n",
       "    .dataframe tbody tr th {\n",
       "        vertical-align: top;\n",
       "    }\n",
       "\n",
       "    .dataframe thead th {\n",
       "        text-align: right;\n",
       "    }\n",
       "</style>\n",
       "<table border=\"1\" class=\"dataframe\">\n",
       "  <thead>\n",
       "    <tr style=\"text-align: right;\">\n",
       "      <th></th>\n",
       "      <th>ID</th>\n",
       "      <th>complaint_text</th>\n",
       "      <th>category</th>\n",
       "      <th>priority</th>\n",
       "    </tr>\n",
       "  </thead>\n",
       "  <tbody>\n",
       "    <tr>\n",
       "      <th>0</th>\n",
       "      <td>1</td>\n",
       "      <td>There's been no water supply in our colony sin...</td>\n",
       "      <td>Water</td>\n",
       "      <td>High</td>\n",
       "    </tr>\n",
       "    <tr>\n",
       "      <th>1</th>\n",
       "      <td>2</td>\n",
       "      <td>Street lights on MG Road are not working for 3...</td>\n",
       "      <td>Electricity</td>\n",
       "      <td>Medium</td>\n",
       "    </tr>\n",
       "    <tr>\n",
       "      <th>2</th>\n",
       "      <td>3</td>\n",
       "      <td>Garbage has not been collected from Sector 7 f...</td>\n",
       "      <td>Sanitation</td>\n",
       "      <td>High</td>\n",
       "    </tr>\n",
       "    <tr>\n",
       "      <th>3</th>\n",
       "      <td>4</td>\n",
       "      <td>Water pressure is too low during mornings in G...</td>\n",
       "      <td>Water</td>\n",
       "      <td>Medium</td>\n",
       "    </tr>\n",
       "    <tr>\n",
       "      <th>4</th>\n",
       "      <td>5</td>\n",
       "      <td>Broken electric pole leaning dangerously near ...</td>\n",
       "      <td>Electricity</td>\n",
       "      <td>High</td>\n",
       "    </tr>\n",
       "    <tr>\n",
       "      <th>...</th>\n",
       "      <td>...</td>\n",
       "      <td>...</td>\n",
       "      <td>...</td>\n",
       "      <td>...</td>\n",
       "    </tr>\n",
       "    <tr>\n",
       "      <th>100</th>\n",
       "      <td>101</td>\n",
       "      <td>Traffic signals not working at major intersect...</td>\n",
       "      <td>Road Safety</td>\n",
       "      <td>High</td>\n",
       "    </tr>\n",
       "    <tr>\n",
       "      <th>101</th>\n",
       "      <td>102</td>\n",
       "      <td>Traffic signals not working at major intersect...</td>\n",
       "      <td>Road Safety</td>\n",
       "      <td>Medium</td>\n",
       "    </tr>\n",
       "    <tr>\n",
       "      <th>102</th>\n",
       "      <td>103</td>\n",
       "      <td>Traffic signals not working at major intersect...</td>\n",
       "      <td>Road Safety</td>\n",
       "      <td>Medium</td>\n",
       "    </tr>\n",
       "    <tr>\n",
       "      <th>103</th>\n",
       "      <td>104</td>\n",
       "      <td>Potholes on main highway causing accidents.</td>\n",
       "      <td>Road Safety</td>\n",
       "      <td>Medium</td>\n",
       "    </tr>\n",
       "    <tr>\n",
       "      <th>104</th>\n",
       "      <td>105</td>\n",
       "      <td>Footpath encroached, pedestrians walking on road.</td>\n",
       "      <td>Road Safety</td>\n",
       "      <td>Medium</td>\n",
       "    </tr>\n",
       "  </tbody>\n",
       "</table>\n",
       "<p>105 rows × 4 columns</p>\n",
       "</div>"
      ],
      "text/plain": [
       "      ID                                     complaint_text     category  \\\n",
       "0      1  There's been no water supply in our colony sin...        Water   \n",
       "1      2  Street lights on MG Road are not working for 3...  Electricity   \n",
       "2      3  Garbage has not been collected from Sector 7 f...   Sanitation   \n",
       "3      4  Water pressure is too low during mornings in G...        Water   \n",
       "4      5  Broken electric pole leaning dangerously near ...  Electricity   \n",
       "..   ...                                                ...          ...   \n",
       "100  101  Traffic signals not working at major intersect...  Road Safety   \n",
       "101  102  Traffic signals not working at major intersect...  Road Safety   \n",
       "102  103  Traffic signals not working at major intersect...  Road Safety   \n",
       "103  104        Potholes on main highway causing accidents.  Road Safety   \n",
       "104  105  Footpath encroached, pedestrians walking on road.  Road Safety   \n",
       "\n",
       "    priority  \n",
       "0       High  \n",
       "1     Medium  \n",
       "2       High  \n",
       "3     Medium  \n",
       "4       High  \n",
       "..       ...  \n",
       "100     High  \n",
       "101   Medium  \n",
       "102   Medium  \n",
       "103   Medium  \n",
       "104   Medium  \n",
       "\n",
       "[105 rows x 4 columns]"
      ]
     },
     "execution_count": 80,
     "metadata": {},
     "output_type": "execute_result"
    }
   ],
   "source": [
    "df=df[df['complaint_text'].notna()]\n",
    "df"
   ]
  },
  {
   "cell_type": "code",
   "execution_count": 81,
   "id": "3cc44179-e6b0-4c9a-8bcd-ab26f2878341",
   "metadata": {},
   "outputs": [],
   "source": [
    "embedder=SentenceTransformer('all-miniLM-L6-v2')"
   ]
  },
  {
   "cell_type": "code",
   "execution_count": 82,
   "id": "c83c7765-4e55-4f10-a09e-80f096a3e338",
   "metadata": {},
   "outputs": [],
   "source": [
    "def get_embeddings(texts):\n",
    "    return embedder.encode(texts)"
   ]
  },
  {
   "cell_type": "code",
   "execution_count": 83,
   "id": "b7ec5f9f-f437-47bc-b12b-9a5067341baf",
   "metadata": {},
   "outputs": [
    {
     "data": {
      "text/plain": [
       "{0: 'Electricity',\n",
       " 1: 'Noise Pollution',\n",
       " 2: 'Road Safety',\n",
       " 3: 'Sanitation',\n",
       " 4: 'Water'}"
      ]
     },
     "execution_count": 83,
     "metadata": {},
     "output_type": "execute_result"
    }
   ],
   "source": [
    "df['category_label']=df['category'].astype('category').cat.codes\n",
    "cat_label_map=dict(enumerate(df['category'].astype('category').cat.categories))\n",
    "cat_label_map                   "
   ]
  },
  {
   "cell_type": "code",
   "execution_count": 84,
   "id": "d2147889-6271-4efd-ad5e-0cf16296f633",
   "metadata": {},
   "outputs": [],
   "source": [
    "X=get_embeddings(df['complaint_text'].tolist())\n",
    "y=df['category_label']"
   ]
  },
  {
   "cell_type": "code",
   "execution_count": 85,
   "id": "c486c54e-8c91-4ace-b16c-8fa3c9b00750",
   "metadata": {},
   "outputs": [],
   "source": [
    "X_train,X_test,y_train,y_test=train_test_split(X,y, test_size=0.2, random_state=42)"
   ]
  },
  {
   "cell_type": "code",
   "execution_count": 100,
   "id": "8b702858-7529-46e2-98f0-e79f466fbe6d",
   "metadata": {},
   "outputs": [
    {
     "name": "stdout",
     "output_type": "stream",
     "text": [
      "Category Accuracy: 0.9523809523809523\n",
      "                 precision    recall  f1-score   support\n",
      "\n",
      "    Electricity       1.00      1.00      1.00         5\n",
      "Noise Pollution       1.00      1.00      1.00         3\n",
      "    Road Safety       1.00      1.00      1.00         4\n",
      "     Sanitation       0.80      1.00      0.89         4\n",
      "          Water       1.00      0.80      0.89         5\n",
      "\n",
      "       accuracy                           0.95        21\n",
      "      macro avg       0.96      0.96      0.96        21\n",
      "   weighted avg       0.96      0.95      0.95        21\n",
      "\n"
     ]
    }
   ],
   "source": [
    "model_cat=LogisticRegression(max_iter=1000)\n",
    "model_cat.fit(X_train,y_train)\n",
    "y_pred_cat=model_cat.predict(X_test)\n",
    "print(\"Category Accuracy:\", accuracy_score(y_test,y_pred_cat))\n",
    "print(classification_report(y_test,y_pred_cat,target_names=cat_label_map.values()))"
   ]
  },
  {
   "cell_type": "code",
   "execution_count": 101,
   "id": "01700c1b-fab0-4635-8242-3277f7df2b96",
   "metadata": {},
   "outputs": [],
   "source": [
    "df['priority_label']= df['priority'].astype('category').cat.codes\n",
    "pri_label_map=dict(enumerate(df['priority'].astype('category').cat.categories))"
   ]
  },
  {
   "cell_type": "code",
   "execution_count": 102,
   "id": "143905be-ee92-4143-b369-b95ab091ccbc",
   "metadata": {},
   "outputs": [],
   "source": [
    "Xp=get_embeddings(df['complaint_text'].tolist())\n",
    "yp=df['priority_label']"
   ]
  },
  {
   "cell_type": "code",
   "execution_count": 103,
   "id": "cf8460e1-e51f-4ec1-b81f-59f49aa76229",
   "metadata": {},
   "outputs": [],
   "source": [
    "Xp_train,Xp_test,yp_train,yp_test=train_test_split(Xp,yp,test_size=0.2,random_state=42)"
   ]
  },
  {
   "cell_type": "code",
   "execution_count": 104,
   "id": "a328251e-ed7a-4c09-a67f-a810780a9259",
   "metadata": {},
   "outputs": [
    {
     "name": "stdout",
     "output_type": "stream",
     "text": [
      "Priority Accuracy: 0.42857142857142855\n",
      "              precision    recall  f1-score   support\n",
      "\n",
      "        High       0.38      1.00      0.55         6\n",
      "         Low       0.00      0.00      0.00         5\n",
      "      Medium       0.60      0.30      0.40        10\n",
      "\n",
      "    accuracy                           0.43        21\n",
      "   macro avg       0.33      0.43      0.32        21\n",
      "weighted avg       0.39      0.43      0.35        21\n",
      "\n"
     ]
    },
    {
     "name": "stderr",
     "output_type": "stream",
     "text": [
      "C:\\Users\\Pratigyarajan\\OneDrive\\Desktop\\ML\\mlenv\\Lib\\site-packages\\sklearn\\metrics\\_classification.py:1706: UndefinedMetricWarning: Precision is ill-defined and being set to 0.0 in labels with no predicted samples. Use `zero_division` parameter to control this behavior.\n",
      "  _warn_prf(average, modifier, f\"{metric.capitalize()} is\", result.shape[0])\n",
      "C:\\Users\\Pratigyarajan\\OneDrive\\Desktop\\ML\\mlenv\\Lib\\site-packages\\sklearn\\metrics\\_classification.py:1706: UndefinedMetricWarning: Precision is ill-defined and being set to 0.0 in labels with no predicted samples. Use `zero_division` parameter to control this behavior.\n",
      "  _warn_prf(average, modifier, f\"{metric.capitalize()} is\", result.shape[0])\n",
      "C:\\Users\\Pratigyarajan\\OneDrive\\Desktop\\ML\\mlenv\\Lib\\site-packages\\sklearn\\metrics\\_classification.py:1706: UndefinedMetricWarning: Precision is ill-defined and being set to 0.0 in labels with no predicted samples. Use `zero_division` parameter to control this behavior.\n",
      "  _warn_prf(average, modifier, f\"{metric.capitalize()} is\", result.shape[0])\n"
     ]
    }
   ],
   "source": [
    "model_pri=LogisticRegression(max_iter=1000)\n",
    "model_pri.fit(Xp_train,yp_train)\n",
    "yp_pred=model_pri.predict(Xp_test)\n",
    "\n",
    "print(\"Priority Accuracy:\", accuracy_score(yp_test,yp_pred))\n",
    "print(classification_report(yp_test,yp_pred,target_names=pri_label_map.values()))"
   ]
  },
  {
   "cell_type": "code",
   "execution_count": null,
   "id": "a93e5528-9ad7-40ef-a3ff-8fadda2568c2",
   "metadata": {},
   "outputs": [],
   "source": []
  },
  {
   "cell_type": "code",
   "execution_count": 105,
   "id": "6cc57031-dc64-4293-ba0e-c18d3af43f4b",
   "metadata": {},
   "outputs": [],
   "source": [
    "import joblib"
   ]
  },
  {
   "cell_type": "code",
   "execution_count": 106,
   "id": "a50c6dae-f48b-4e25-916f-5278499a9078",
   "metadata": {},
   "outputs": [
    {
     "name": "stdout",
     "output_type": "stream",
     "text": [
      "✅ Models saved successfully.\n"
     ]
    }
   ],
   "source": [
    "joblib.dump(model_cat, \"models/category_model.pkl\")\n",
    "joblib.dump(cat_label_map, \"models/category_model_labels.pkl\")\n",
    "\n",
    "joblib.dump(model_pri, \"models/priority_model.pkl\")\n",
    "joblib.dump(pri_label_map, \"models/priority_model_labels.pkl\")\n",
    "\n",
    "print(\"✅ Models saved successfully.\")\n"
   ]
  },
  {
   "cell_type": "code",
   "execution_count": 107,
   "id": "2d70fbaf-e332-4aec-b047-212f5315fddd",
   "metadata": {},
   "outputs": [],
   "source": [
    "##############################    TESTING "
   ]
  },
  {
   "cell_type": "code",
   "execution_count": 130,
   "id": "323db1c1-f0ae-4b82-88c8-49f1ff1d1180",
   "metadata": {},
   "outputs": [],
   "source": [
    "def predict (complaint_text,model,label_map):\n",
    "    emb=get_embeddings([complaint_text])\n",
    "    pred=model.predict(emb)[0]\n",
    "    return label_map[pred]"
   ]
  },
  {
   "cell_type": "code",
   "execution_count": 131,
   "id": "fb43f4b7-7373-4a18-b9a0-4986e1b03d8a",
   "metadata": {},
   "outputs": [],
   "source": [
    "testing_complaints=\"No water in our area for 2 days and pipeline is broken\""
   ]
  },
  {
   "cell_type": "code",
   "execution_count": null,
   "id": "76d26175-9fa7-4cec-ad59-133ba4ade75d",
   "metadata": {},
   "outputs": [],
   "source": [
    "results = {}"
   ]
  },
  {
   "cell_type": "raw",
   "id": "169b94d2-e468-442f-86f4-a244ebb7a7ea",
   "metadata": {},
   "source": [
    "d=predict(testing_complaints, model_cat, cat_label_map)\n",
    "p=predict(testing_complaints,model_pri,pri_label_map)"
   ]
  },
  {
   "cell_type": "code",
   "execution_count": 138,
   "id": "44706ac2-faf0-4330-8aef-70aa637493c9",
   "metadata": {},
   "outputs": [
    {
     "name": "stdout",
     "output_type": "stream",
     "text": [
      "Water\n"
     ]
    }
   ],
   "source": [
    "print(predict(testing_complaints, model_cat, cat_label_map))"
   ]
  },
  {
   "cell_type": "code",
   "execution_count": 133,
   "id": "a29ddfd7-af69-4d1d-8bdf-6e6b29088d03",
   "metadata": {},
   "outputs": [
    {
     "name": "stdout",
     "output_type": "stream",
     "text": [
      "Medium\n"
     ]
    }
   ],
   "source": [
    "print(predict(testing_complaints,model_pri,pri_label_map))"
   ]
  },
  {
   "cell_type": "code",
   "execution_count": 139,
   "id": "f811dbd1-7383-4ecc-b767-aebce2145540",
   "metadata": {},
   "outputs": [
    {
     "name": "stdout",
     "output_type": "stream",
     "text": [
      "Predicted department: Water\n",
      "Predicted priority: Medium\n"
     ]
    }
   ],
   "source": [
    "results = {}\n",
    "\n",
    "results['department'] = predict(testing_complaints, model_cat, cat_label_map)\n",
    "results['priority'] = predict(testing_complaints, model_pri, pri_label_map)\n",
    "\n",
    "print(f\"Predicted department: {results['department']}\")\n",
    "print(f\"Predicted priority: {results['priority']}\")\n"
   ]
  },
  {
   "cell_type": "code",
   "execution_count": null,
   "id": "5f26d87a-c809-48ba-8394-7a815ef0e25c",
   "metadata": {},
   "outputs": [],
   "source": []
  },
  {
   "cell_type": "code",
   "execution_count": null,
   "id": "2ab227bf-71ca-441d-98ef-8ccfe3259696",
   "metadata": {},
   "outputs": [],
   "source": []
  }
 ],
 "metadata": {
  "kernelspec": {
   "display_name": "Python 3 (ipykernel)",
   "language": "python",
   "name": "python3"
  },
  "language_info": {
   "codemirror_mode": {
    "name": "ipython",
    "version": 3
   },
   "file_extension": ".py",
   "mimetype": "text/x-python",
   "name": "python",
   "nbconvert_exporter": "python",
   "pygments_lexer": "ipython3",
   "version": "3.13.3"
  }
 },
 "nbformat": 4,
 "nbformat_minor": 5
}
